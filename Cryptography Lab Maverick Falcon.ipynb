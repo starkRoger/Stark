{
 "cells": [
  {
   "cell_type": "markdown",
   "metadata": {},
   "source": [
    "## SHA1"
   ]
  },
  {
   "cell_type": "code",
   "execution_count": 1,
   "metadata": {},
   "outputs": [],
   "source": [
    "import numpy as np"
   ]
  },
  {
   "cell_type": "code",
   "execution_count": 11,
   "metadata": {},
   "outputs": [],
   "source": [
    "def stringToBinary(s):\n",
    "    res = list(''.join(format(ord(i),'08b') for i in s))\n",
    "    return res"
   ]
  },
  {
   "cell_type": "code",
   "execution_count": 12,
   "metadata": {},
   "outputs": [
    {
     "data": {
      "text/plain": [
       "['0',\n",
       " '1',\n",
       " '0',\n",
       " '0',\n",
       " '0',\n",
       " '1',\n",
       " '1',\n",
       " '1',\n",
       " '0',\n",
       " '1',\n",
       " '1',\n",
       " '0',\n",
       " '0',\n",
       " '1',\n",
       " '0',\n",
       " '1']"
      ]
     },
     "execution_count": 12,
     "metadata": {},
     "output_type": "execute_result"
    }
   ],
   "source": [
    "stringToBinary('Ge')"
   ]
  },
  {
   "cell_type": "code",
   "execution_count": 6,
   "metadata": {},
   "outputs": [],
   "source": [
    "def stringToBinaryP(M):\n",
    "    M =list( ''.join(format(ord(i), '08b') for i in M))\n",
    "    return M"
   ]
  },
  {
   "cell_type": "code",
   "execution_count": 7,
   "metadata": {},
   "outputs": [
    {
     "data": {
      "text/plain": [
       "['0',\n",
       " '1',\n",
       " '0',\n",
       " '0',\n",
       " '0',\n",
       " '1',\n",
       " '1',\n",
       " '1',\n",
       " '0',\n",
       " '1',\n",
       " '1',\n",
       " '0',\n",
       " '0',\n",
       " '1',\n",
       " '0',\n",
       " '1']"
      ]
     },
     "execution_count": 7,
     "metadata": {},
     "output_type": "execute_result"
    }
   ],
   "source": [
    "stringToBinaryP('Ge')"
   ]
  },
  {
   "cell_type": "code",
   "execution_count": null,
   "metadata": {},
   "outputs": [],
   "source": [
    "def leftshift(a,b):\n",
    "    return ((a << b) | (a >> (32 - b))) & 0xffffffff"
   ]
  },
  {
   "cell_type": "code",
   "execution_count": 124,
   "metadata": {},
   "outputs": [],
   "source": [
    "def stringToBinary(s):\n",
    "    res = list(''.join(format(ord(i),'08b') for i in s))\n",
    "    return res\n",
    "def padding(M):\n",
    "    if len(M)<512:\n",
    "        print(\"Padding!\")\n",
    "        length = list(bin(len(M)))[2:]\n",
    "        M.append('1')\n",
    "        for i in range(len(M),512-len(length)):\n",
    "            M.append('0')\n",
    "        M.extend(length)\n",
    "    return M\n",
    "def leftRotate(a,b):\n",
    "    return ((a << b) | (a >> (32 - b))) & 0xffffffff\n",
    "def f1(B,C,D):\n",
    "    t=D^(B&(C^D))\n",
    "    return t\n",
    "def f2(B,C,D):\n",
    "    t=B^C^D\n",
    "    return t\n",
    "def f3(B,C,D):\n",
    "    t=(B&C)|(B&D)|(C&D)\n",
    "    return t\n",
    "def f4(B,C,D):\n",
    "    t=B^C^D\n",
    "    return t\n",
    "def helperFunctionSHA1 (M,F):\n",
    "    a = F[0]\n",
    "    b = F[1]\n",
    "    c = F[2]\n",
    "    d = F[3]\n",
    "    e = F[4]\n",
    "    a1 = a\n",
    "    b1 = b\n",
    "    c1 = c\n",
    "    d1 = d\n",
    "    e1 = e\n",
    "    M = padding(M)\n",
    "    Words = [] # this will contain the words\n",
    "    for i in range(16):\n",
    "        t = M[32*i:32*(i+1)]\n",
    "        t = int(''.join(map(str,t)),2)# this will convert to binary \n",
    "        Words.append(t)\n",
    "    for i in range(16,80):\n",
    "        t=Words[i-16]^Words[i-14]\n",
    "        t=t^Words[i-8]\n",
    "        t=t^Words[i-3]\n",
    "        t = leftRotate(t,1)\n",
    "        Words.append(t)\n",
    "    for i in range(80):\n",
    "        if i>=0 and i<20:\n",
    "            f = f1(b,c,d)\n",
    "            k = 0x5A827999\n",
    "        elif i>=20 and i<40:\n",
    "            f = f2(b,c,d)\n",
    "            k = 0x6ED9EBA1\n",
    "        elif i>= 40 and i<60:\n",
    "            f = f3(b,c,d)\n",
    "            k = 0x8F1BBCDC\n",
    "        else:\n",
    "            f = f4(b,c,d)\n",
    "            k = 0xCA62C1D6\n",
    "        temp = (leftshift(a,5)+f+e+Words[i]+k)&0xffffffff\n",
    "        e = d\n",
    "        d = c\n",
    "        c = leftRotate(b,30)\n",
    "        b = a\n",
    "        a = temp\n",
    "    a = (a+a1)& 0xffffffff\n",
    "    b = (b+b1)& 0xffffffff\n",
    "    c = (c+c1)& 0xffffffff\n",
    "    d = (d+d1)& 0xffffffff\n",
    "    e = (e+e1)& 0xffffffff\n",
    "    return [a,b,c,d,e]"
   ]
  },
  {
   "cell_type": "code",
   "execution_count": 125,
   "metadata": {},
   "outputs": [],
   "source": [
    "def sha1M(M):\n",
    "    Message_in_binary = stringToBinary(M)\n",
    "    A = 0x67452301\n",
    "    B = 0xEFCDAB89\n",
    "    C = 0x98BADCFE\n",
    "    D = 0x10325476\n",
    "    E = 0xC3D2E1F0\n",
    "    F = [A,B,C,D,E]\n",
    "    for i in range(0,len(Message_in_binary),256):\n",
    "        a = min(i+256,len(Message_in_binary))\n",
    "        F = helperFunctionSHA1(Message_in_binary[i:a],F)\n",
    "    print('%08x%08x%08x%08x%08x'%(F[0],F[1],F[2],F[3],F[4]))\n",
    "    return F"
   ]
  },
  {
   "cell_type": "code",
   "execution_count": 126,
   "metadata": {},
   "outputs": [
    {
     "name": "stdout",
     "output_type": "stream",
     "text": [
      "Padding!\n",
      "c0b137fe2d792459f26ff763cce44574a5b5ab03\n"
     ]
    },
    {
     "data": {
      "text/plain": [
       "[3232839678, 762913881, 4067424099, 3437512052, 2780146435]"
      ]
     },
     "execution_count": 126,
     "metadata": {},
     "output_type": "execute_result"
    }
   ],
   "source": [
    "sha1M('welcome')"
   ]
  },
  {
   "cell_type": "markdown",
   "metadata": {},
   "source": [
    "## MITM"
   ]
  },
  {
   "cell_type": "code",
   "execution_count": 116,
   "metadata": {},
   "outputs": [
    {
     "name": "stdout",
     "output_type": "stream",
     "text": [
      "aaf4c61ddcc5e8a2dabede0f3b482cd9aea9434d\n",
      "welcome 29e81ecd91380deaaf46a58227613dc5d0a115a0\n",
      "welcomerand fe5dfac277b1c0dc1c14a3a316ade1214db7e200\n",
      "welcomerand 89ca8a9e3ace8132bf5b93d2aff7263d1d89b9b1\n"
     ]
    }
   ],
   "source": [
    "key = \"hello\"\n",
    "message = \"welcome\"\n",
    "F1 = sha1M(key)\n",
    "messageBin = stringToBinary(message)\n",
    "F2 = helperFunctionSHA1(messageBin,F1)\n",
    "print(message,'%08x%08x%08x%08x%08x'%(F2[0],F2[1],F2[2],F2[3],F2[4]))\n",
    "r = \"rand\"\n",
    "rand = stringToBinary(r)\n",
    "F3 = helperFunctionSHA1(rand,F2)\n",
    "print(message+r,'%08x%08x%08x%08x%08x'%(F3[0],F3[1],F3[2],F3[3],F3[4]))\n",
    "message1 = \"welcomerand\"\n",
    "message1Bin = stringToBinary(message1)\n",
    "F4 = helperFunctionSHA1(message1Bin,F1)\n",
    "print(message+r,'%08x%08x%08x%08x%08x'%(F4[0],F4[1],F4[2],F4[3],F4[4]))"
   ]
  },
  {
   "cell_type": "markdown",
   "metadata": {},
   "source": [
    "## HMAC"
   ]
  },
  {
   "cell_type": "code",
   "execution_count": 131,
   "metadata": {},
   "outputs": [
    {
     "name": "stdout",
     "output_type": "stream",
     "text": [
      "Padding!\n",
      "1cdc16327cb96fdbdc635c280f7587c5264ea6f2\n",
      "Padding!\n",
      "e3c45c4bec33704b8db52ca82034834935772597\n"
     ]
    }
   ],
   "source": [
    "q=['0','0','1','1','0','1','1','0']\n",
    "o=['0','1','0','1','1','1','0','0']\n",
    "ipad=[]\n",
    "opad=[]\n",
    "for i in range(64):\n",
    "    ipad.extend(q)\n",
    "    opad.extend(o)\n",
    "def XOR (a,b):\n",
    "    res = []\n",
    "    for i in range(len(a)):\n",
    "        if a[i] == b[i]:\n",
    "            res.append('0')\n",
    "        else:\n",
    "            res.append('1')\n",
    "    return res\n",
    "key = \"hello\"\n",
    "message = \"Welcome\"\n",
    "keyBin = stringToBinary(key)\n",
    "for i in range(len(keyBin),512):\n",
    "    keyBin.append('0')\n",
    "Si = XOR(keyBin,ipad)\n",
    "So = XOR(keyBin,opad)\n",
    "messageBin = stringToBinary(message)\n",
    "A = 0x67452301\n",
    "B = 0xEFCDAB89\n",
    "C = 0x98BADCFE\n",
    "D = 0x10325476\n",
    "E = 0xC3D2E1F0\n",
    "F = [A,B,C,D,E]\n",
    "F1 = helperFunctionSHA1(keyBin,F)\n",
    "F2 = helperFunctionSHA1(messageBin,F1)\n",
    "print('%08x%08x%08x%08x%08x'%(F2[0],F2[1],F2[2],F2[3],F2[4]))\n",
    "def intTobin(a):\n",
    "    c=[]\n",
    "    for j in a:\n",
    "        c.extend([i for i in list('{0:8b}'.format(j))])\n",
    "    return c\n",
    "M2=intTobin(F2)\n",
    "F1=helperFunctionSHA1(So,F)\n",
    "F2=helperFunctionSHA1(M2,F1)\n",
    "print('%08x%08x%08x%08x%08x'%(F2[0],F2[1],F2[2],F2[3],F2[4]))"
   ]
  },
  {
   "cell_type": "code",
   "execution_count": 129,
   "metadata": {},
   "outputs": [
    {
     "data": {
      "text/plain": [
       "[484185650, 2092527579, 3697499176, 259360709, 642688754]"
      ]
     },
     "execution_count": 129,
     "metadata": {},
     "output_type": "execute_result"
    }
   ],
   "source": [
    "F2"
   ]
  },
  {
   "cell_type": "code",
   "execution_count": 119,
   "metadata": {},
   "outputs": [
    {
     "data": {
      "text/plain": [
       "['apple', 'banana', 'cherry', 'Ford', 'BMW', 'Volvo']"
      ]
     },
     "execution_count": 119,
     "metadata": {},
     "output_type": "execute_result"
    }
   ],
   "source": [
    "fruits"
   ]
  },
  {
   "cell_type": "markdown",
   "metadata": {},
   "source": [
    "## RSA"
   ]
  },
  {
   "cell_type": "code",
   "execution_count": 132,
   "metadata": {},
   "outputs": [
    {
     "name": "stdout",
     "output_type": "stream",
     "text": [
      "q \t a \t b \t r \t t1 \t t2 \t t\n",
      "53 \t 160 \t 3 \t 1 \t 0 \t 1 \t -53\n",
      "3 \t 3 \t 1 \t 0 \t 1 \t -53 \t 160\n",
      "- \t 1 \t 0 \t - \t -53 \t 160 \t -\n",
      "The value at t1 is the inverse  -53\n",
      "The positive value of inverse is 107\n"
     ]
    }
   ],
   "source": [
    "import math\n",
    "n = a = 160\n",
    "b = 3\n",
    "t1 = 0\n",
    "t2 = 1\n",
    "q = 0\n",
    "r = 0\n",
    "t = 0\n",
    "g = 0\n",
    "if math.gcd(a,b) != 1:\n",
    "    print(\"There is no multiplicative inverse of the given a nd b as their gcd not 1 or they are not co primes\")\n",
    "    print(\"gcd(a,b) =\",math.gcd(a,b))\n",
    "    g = 1\n",
    "print(\"q \\t a \\t b \\t r \\t t1 \\t t2 \\t t\")\n",
    "while b!= 0:\n",
    "    q = math.floor(a/b)\n",
    "    r = a - (b*q)\n",
    "    t = t1 - (q*t2)\n",
    "    print(q,\"\\t\",a,\"\\t\",b,\"\\t\",r,\"\\t\",t1,\"\\t\",t2,\"\\t\",t)\n",
    "    a = b\n",
    "    b = r\n",
    "    t1 = t2\n",
    "    t2 = t\n",
    "q = \"-\"\n",
    "t = \"-\"\n",
    "r = \"-\"\n",
    "print(q,\"\\t\",a,\"\\t\",b,\"\\t\",r,\"\\t\",t1,\"\\t\",t2,\"\\t\",t)\n",
    "print(\"The value at t1 is the inverse \",t1)\n",
    "if t1<0:\n",
    "    t1 = t1 +n\n",
    "    print(\"The positive value of inverse is\",t1)\n",
    "if g == 1:\n",
    "    print(\"Clearly t1 * b % a not 1\",(t1*b)%a)"
   ]
  },
  {
   "cell_type": "code",
   "execution_count": 140,
   "metadata": {},
   "outputs": [
    {
     "data": {
      "text/plain": [
       "2"
      ]
     },
     "execution_count": 140,
     "metadata": {},
     "output_type": "execute_result"
    }
   ],
   "source": [
    "import math\n",
    "def eucledianExtended(a,b):\n",
    "    if math.gcd(a,b)!=1:\n",
    "        return -1\n",
    "    n = a \n",
    "    t1 = 0\n",
    "    t2 = 1\n",
    "    while b!=0:\n",
    "        q = math.floor(a/b)\n",
    "        r = a - b*q\n",
    "        t = t1 - t2 * q\n",
    "        t1 = t2\n",
    "        t2 = t\n",
    "        a = b\n",
    "        b = r\n",
    "    if t1<0:\n",
    "        t1 = t1+n\n",
    "    return t1\n",
    "eucledianExtended(3,8)"
   ]
  },
  {
   "cell_type": "code",
   "execution_count": 145,
   "metadata": {},
   "outputs": [
    {
     "name": "stdout",
     "output_type": "stream",
     "text": [
      "Public Key  5 21\n",
      "Private Key 5 21\n",
      "5 17 17\n"
     ]
    }
   ],
   "source": [
    "def modularInverse (a,b):\n",
    "    for i in range(2,b):\n",
    "        if ((a%b)*(i%b))%b == 1:\n",
    "            return i\n",
    "p = 7\n",
    "q = 3\n",
    "n = p*q\n",
    "phin = (p-1)*(q-1)\n",
    "e  = 0\n",
    "for i in range(2,phin):\n",
    "    if math.gcd(phin,i) == 1:\n",
    "        e = i\n",
    "        break\n",
    "d = modularInverse(e,phin)\n",
    "print(\"Public Key \",e,n)\n",
    "print(\"Private Key\",d,n)\n",
    "message = 17\n",
    "cipher = (message ** e)%n\n",
    "decipher = (cipher ** d)%n\n",
    "print(cipher,decipher,message)"
   ]
  },
  {
   "cell_type": "markdown",
   "metadata": {},
   "source": [
    "## Digital Signature using RSA"
   ]
  },
  {
   "cell_type": "code",
   "execution_count": 147,
   "metadata": {},
   "outputs": [
    {
     "name": "stdout",
     "output_type": "stream",
     "text": [
      "Alice sent Digital Signature { 12 | 3 }\n",
      "Verified\n"
     ]
    }
   ],
   "source": [
    "def modularInverse(a,b):\n",
    "    for i in range(2,b):\n",
    "        if ((a%b)*(i%b))%b == 1:\n",
    "            return i\n",
    "p = 7\n",
    "q = 3\n",
    "n = p*q\n",
    "phi = (p-1)*(q-1)\n",
    "e = 0\n",
    "for i in range(2,phi):\n",
    "    if math.gcd(phi,i) == 1:\n",
    "        e = i\n",
    "        break\n",
    "d = modularInverse(e,phi)\n",
    "message = 12\n",
    "cipher = (message ** e)%n\n",
    "decipher = (cipher ** d)%n\n",
    "signature = (message ** d)%n\n",
    "print(\"Alice sent Digital Signature {\",message,\"|\",signature,\"}\")\n",
    "message_ret = (signature ** e)%n\n",
    "if message_ret == message:\n",
    "    print(\"Verified\")"
   ]
  },
  {
   "cell_type": "markdown",
   "metadata": {},
   "source": [
    "## ElGamal"
   ]
  },
  {
   "cell_type": "code",
   "execution_count": 149,
   "metadata": {},
   "outputs": [
    {
     "name": "stdout",
     "output_type": "stream",
     "text": [
      "Private key of Bob is 15\n",
      "Public Key of Bob is ( 17 3 14348907 [1, 2, 3, 4, 5, 6, 7, 8, 9, 10, 11, 12, 13, 14, 15, 16] )\n",
      "Message sent by Alice ( 531441 380886740229331961696448638603077808752124007011975983620007828724785686715165190098005 )\n",
      "Message decrypted by Bob 5.0\n"
     ]
    }
   ],
   "source": [
    "# Bob choses a Zp where p is a prime\n",
    "# g is a generator from Zp\n",
    "# a is secret key from Zp\n",
    "# h = g^a\n",
    "# Public key (p,g,Zp,h)\n",
    "# Alice chooses y from Zp\n",
    "# s = h^y \n",
    "# c1 = g^y\n",
    "# c2 = Message * s\n",
    "# Bob decrypts by \n",
    "# c2/c1^a\n",
    "import math\n",
    "import random\n",
    "p = 17\n",
    "Zp = [i for i in range(1,p)]\n",
    "g = 3 # generator for Zp\n",
    "a = random.choice(Zp)\n",
    "print(\"Private key of Bob is\",a)\n",
    "h = g**a\n",
    "print(\"Public Key of Bob is (\",p,g,h,Zp,\")\")\n",
    "y = random.choice(Zp)# Alice chooses a random number from the group\n",
    "c1 = g**y\n",
    "message = 5\n",
    "s = h**y\n",
    "c2 = message * s\n",
    "print(\"Message sent by Alice (\",c1,c2,\")\")\n",
    "s_d = c1**a\n",
    "message_dec = c2/s_d\n",
    "print(\"Message decrypted by Bob\",message_dec)\n"
   ]
  },
  {
   "cell_type": "markdown",
   "metadata": {},
   "source": [
    "## Elgamal Digital Signatures"
   ]
  },
  {
   "cell_type": "code",
   "execution_count": 156,
   "metadata": {},
   "outputs": [
    {
     "name": "stdout",
     "output_type": "stream",
     "text": [
      "bob sends Digital Signature (r,s),( 12 13 )\n",
      "Public keys of Bob ( 12 17 3 [1, 2, 3, 4, 5, 6, 7, 8, 9, 10, 11, 12, 13, 14, 15, 16] )\n",
      "Verified\n",
      "5\n"
     ]
    }
   ],
   "source": [
    "# Bob will choose a private key from Zp-1 {1,... p-2}\n",
    "# y = g**x mod p\n",
    "# k is again choose random from {2,...,p-2} and k is relatively prime to p-1 ! very very important\n",
    "# r = g**k mod p\n",
    "# s = (H(m) - xr) k^(-1) mod (p-1)! very  very very important\n",
    "# (r,s) is the signature from Bob\n",
    "# Verification\n",
    "# g^H(m) = y**r r**s mod p\n",
    "def modInverse(a,b):\n",
    "    for i in range(1,b):\n",
    "        if ((a%b)*(i%b))%b == 1:\n",
    "            return i\n",
    "p = 17\n",
    "g = 3\n",
    "Zp = [i for i in range(1,p)]\n",
    "a = random.choice(Zp)# Secret key of Bob\n",
    "y = (g**a)%p\n",
    "message = 5\n",
    "Zp2 = [i for i in range(2,p-1)] \n",
    "k = random.choice(Zp2)\n",
    "while math.gcd(p-1,k) != 1:\n",
    "    k = random.choice(Zp2) \n",
    "r = (g**k)%p\n",
    "s = ((message - a*r)%(p-1)*modInverse(k,(p-1))%(p-1))%(p-1)\n",
    "print(\"bob sends Digital Signature (r,s),(\",r,s,\")\")\n",
    "print(\"Public keys of Bob (\",y,p,g,Zp,\")\")\n",
    "decrypt = ((y**r)%p*(r**s)%p)%p\n",
    "if decrypt == (g**message)%p:\n",
    "    print(\"Verified\")\n",
    "print(decrypt)"
   ]
  },
  {
   "cell_type": "markdown",
   "metadata": {},
   "source": [
    "## Dffie Hellman MITM"
   ]
  },
  {
   "cell_type": "code",
   "execution_count": 157,
   "metadata": {},
   "outputs": [
    {
     "name": "stdout",
     "output_type": "stream",
     "text": [
      "Public Key Bob ( 10 )\n",
      "Public Key Alice ( 5 )\n",
      "Shared private key ( 6 )\n"
     ]
    }
   ],
   "source": [
    "# P,G are known to all\n",
    "# P --> prime number\n",
    "# G --> generator\n",
    "# a --> private key of Alice\n",
    "# b --> private key of Bob\n",
    "# Pb = G**b mod P\n",
    "# Pa = G**a mod P\n",
    "p = 17\n",
    "g = 3\n",
    "a = 5 # Alice private key\n",
    "b = 3 # Bob private key\n",
    "public_key_bob = (g**b)%p\n",
    "public_key_alice = (g**a)%p\n",
    "shared = (public_key_bob ** a)%p\n",
    "print(\"Public Key Bob (\",public_key_bob,\")\")\n",
    "print(\"Public Key Alice (\",public_key_alice,\")\")\n",
    "print(\"Shared private key (\",shared,\")\")"
   ]
  },
  {
   "cell_type": "markdown",
   "metadata": {},
   "source": [
    "## Birthday Paradox"
   ]
  },
  {
   "cell_type": "code",
   "execution_count": 162,
   "metadata": {},
   "outputs": [
    {
     "name": "stdout",
     "output_type": "stream",
     "text": [
      "22\n"
     ]
    }
   ],
   "source": [
    "t = val = 1\n",
    "while True:\n",
    "    val = val * (1-(t/365))\n",
    "    if 1-val >= 0.5:\n",
    "        break\n",
    "    t += 1\n",
    "print(t)"
   ]
  },
  {
   "cell_type": "code",
   "execution_count": 163,
   "metadata": {},
   "outputs": [
    {
     "data": {
      "text/plain": [
       "0.9972602739726028"
      ]
     },
     "execution_count": 163,
     "metadata": {},
     "output_type": "execute_result"
    }
   ],
   "source": [
    "364/365"
   ]
  },
  {
   "cell_type": "markdown",
   "metadata": {},
   "source": [
    "## ECC"
   ]
  },
  {
   "cell_type": "code",
   "execution_count": 3,
   "metadata": {},
   "outputs": [
    {
     "name": "stdout",
     "output_type": "stream",
     "text": [
      "a which is coefficient of x in Equation of curve 1\n",
      "b Constant in Equation of curve 1\n",
      "p The modular limit 4177\n",
      "P or B the base Point [ 0 , 1 ]\n",
      "K the common value which is available to publicly 30\n",
      "Pa public key of A [2866, 2128]\n",
      "Pb public key of B [1853, 1124]\n",
      "The things that will be available publicly are ( 1 , 1 , 4177 , [ 0 , 1 ] , 30 , [2866, 2128] , [1853, 1124] , )\n",
      "Pm calculated by A is  [65320, 7]\n",
      "The message that will be sent is [kB,(Pm+kPb)] [ [1783, 180] [694, 342] ]\n",
      "This is the decrypted point [2665, 7]\n"
     ]
    }
   ],
   "source": [
    "import math\n",
    "import random\n",
    "import numpy as np\n",
    "def modInverse(a,b):\n",
    "    for i in range(1,b):\n",
    "        if(((a%b)*(i%b))%b == 1):\n",
    "            return i\n",
    "    return -1\n",
    "def pointDoubling(xp,yp,a,b,p):\n",
    "    s = (3*(xp**2)+a)%p*modInverse(2*yp,p)\n",
    "    xr = (s**2 - 2*xp)%p\n",
    "    yr = (s*(xp-xr)-yp)%p\n",
    "    return (xr,yr)\n",
    "def pointAddition(xp,xq,yp,yq,p):\n",
    "    s = (yp-yq)%p*modInverse(xp-xq,p)\n",
    "    xr = (s**2 - (xp+xq))%p\n",
    "    yr = (s*(xp-xr)-yp)%p\n",
    "    return [xr,yr]\n",
    "def pointAddition1(xp,xq,yp,yq,p):\n",
    "    s = (yp-yq)%p*modInverse(xp-xq,p)\n",
    "    xr = (s**2 - (xp+xq))\n",
    "    yr = (s*(xp-xr)-yp)%p\n",
    "    return [xr,yr]\n",
    "def pointCalculator(xp,yp,k):\n",
    "    arr = []\n",
    "    arr.append(0)\n",
    "    arr.append([xp,yp])\n",
    "    for i in range(2,k+1):\n",
    "        if i%2 == 1:\n",
    "            xr,yr = pointAddition(arr[i-1][0],xp,arr[i-1][1],yp,p)\n",
    "            arr.append([xr,yr])\n",
    "        else:\n",
    "            xr,yr = pointDoubling(arr[int(i/2)][0],arr[int(i/2)][1],a,b,p)\n",
    "            arr.append([xr,yr])\n",
    "    return [arr[k][0],arr[k][1]]\n",
    "def satisfy(x,p,a,b):\n",
    "    val = x**3 + a*(x) +b\n",
    "    val = math.sqrt((val%p))\n",
    "    temp = math.floor(val)\n",
    "    if temp == val:\n",
    "        return temp\n",
    "    return -1\n",
    "def mtoPm(m,K,p,a,b):\n",
    "    j = 0\n",
    "    while satisfy(m*K+j,p,a,b) == -1:\n",
    "        j += 1\n",
    "    Pm = satisfy(m*K+j,p,a,b)\n",
    "    return [m*K+j,Pm]\n",
    "a = 1\n",
    "b = 1\n",
    "p = 4177\n",
    "xp = 0\n",
    "yp = 1\n",
    "K = 30\n",
    "secret_key_A = 5\n",
    "secret_key_B = 4\n",
    "Pa = pointCalculator(xp,yp,secret_key_A)# Shared public key of A\n",
    "Pb = pointCalculator(xp,yp,secret_key_B)# Shared public key of B\n",
    "print(\"a which is coefficient of x in Equation of curve\",a)\n",
    "print(\"b Constant in Equation of curve\",b)\n",
    "print(\"p The modular limit\",p)\n",
    "print(\"P or B the base Point\",\"[\",xp,\",\",yp,\"]\")\n",
    "print(\"K the common value which is available to publicly\",K)\n",
    "print(\"Pa public key of A\",Pa)\n",
    "print(\"Pb public key of B\",Pb)\n",
    "print(\"The things that will be available publicly are (\",a,\",\",b,\",\",p,\",\",\"[\",xp,\",\",yp,\"]\",\",\",K,\",\",Pa,\",\",Pb,\",\",\")\")\n",
    "# A will choose some random k with which he will send the value\n",
    "message = 2174\n",
    "Pmpoint = mtoPm(message,K,p,a,b)\n",
    "print(\"Pm calculated by A is \",Pmpoint)\n",
    "k = random.randint(2,p-1)\n",
    "kB = pointCalculator(xp,yp,k)\n",
    "kPb = pointCalculator(Pb[0],Pb[1],k)\n",
    "encrypted = pointAddition(Pmpoint[0],kPb[0],Pmpoint[1],kPb[1],p)\n",
    "print(\"The message that will be sent is [kB,(Pm+kPb)] [\",kB,encrypted,\"]\")\n",
    "pkB = pointCalculator(kB[0],kB[1],secret_key_B)\n",
    "pkB[1] = -pkB[1] + p # As in subtraction we need to inverse sign of the y co ordinates\n",
    "decrypted = pointAddition(encrypted[0],pkB[0],encrypted[1],pkB[1],p)\n",
    "print(\"This is the decrypted point\",decrypted)"
   ]
  },
  {
   "cell_type": "code",
   "execution_count": 4,
   "metadata": {},
   "outputs": [
    {
     "data": {
      "text/plain": [
       "284"
      ]
     },
     "execution_count": 4,
     "metadata": {},
     "output_type": "execute_result"
    }
   ],
   "source": []
  },
  {
   "cell_type": "code",
   "execution_count": null,
   "metadata": {},
   "outputs": [],
   "source": []
  },
  {
   "cell_type": "code",
   "execution_count": null,
   "metadata": {},
   "outputs": [],
   "source": []
  },
  {
   "cell_type": "code",
   "execution_count": null,
   "metadata": {},
   "outputs": [],
   "source": []
  }
 ],
 "metadata": {
  "kernelspec": {
   "display_name": "Python 3",
   "language": "python",
   "name": "python3"
  },
  "language_info": {
   "codemirror_mode": {
    "name": "ipython",
    "version": 3
   },
   "file_extension": ".py",
   "mimetype": "text/x-python",
   "name": "python",
   "nbconvert_exporter": "python",
   "pygments_lexer": "ipython3",
   "version": "3.7.6"
  }
 },
 "nbformat": 4,
 "nbformat_minor": 4
}
